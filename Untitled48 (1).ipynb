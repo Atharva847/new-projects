{
 "cells": [
  {
   "cell_type": "code",
   "execution_count": null,
   "id": "b2cf2641-c286-42ae-a146-647219d68291",
   "metadata": {},
   "outputs": [],
   "source": [
    "'''\n",
    "Q1. What is anomaly detection and what is its purpose?\n",
    "Anomaly detection refers to the process of identifying data points or patterns that significantly deviate from the norm or expected behavior within a dataset. These anomalies, also known as outliers, may indicate rare events, errors, fraud, or novel phenomena.\n",
    "\n",
    "Purpose:\n",
    "Fraud Detection: Identifying fraudulent transactions in finance.\n",
    "Network Security: Detecting unauthorized access or attacks in network traffic.\n",
    "Quality Control: Spotting defective products in manufacturing processes.\n",
    "Medical Diagnosis: Identifying unusual patterns that may indicate diseases in healthcare data.\n",
    "'''"
   ]
  },
  {
   "cell_type": "code",
   "execution_count": null,
   "id": "f58a815d-e1b3-42d6-8574-bdadccebf9ee",
   "metadata": {},
   "outputs": [],
   "source": [
    "'''\n",
    "Q2. What are the key challenges in anomaly detection?\n",
    "Key challenges in anomaly detection include:\n",
    "\n",
    "Imbalance: Anomalies are typically rare compared to normal data, making them difficult to detect.\n",
    "High Dimensionality: In datasets with many features, identifying anomalies becomes complex due to the \"curse of dimensionality.\"\n",
    "Context Dependence: What is considered an anomaly may vary depending on the context or domain, requiring adaptive models.\n",
    "Noise: Differentiating between noise and true anomalies can be challenging, especially in real-world data.\n",
    "Lack of Labeled Data: In many cases, labeled examples of anomalies are scarce or nonexistent, making supervised learning difficult.\n",
    "'''"
   ]
  },
  {
   "cell_type": "code",
   "execution_count": null,
   "id": "2517bd25-df25-4ebd-bfb0-fddcc0eeb726",
   "metadata": {},
   "outputs": [],
   "source": [
    "'''\n",
    "Q3. How does unsupervised anomaly detection differ from supervised anomaly detection?\n",
    "Unsupervised anomaly detection does not require labeled data and typically assumes that anomalies are rare and different from the majority of the data. It identifies anomalies based on deviations from the norm in the feature space.\n",
    "\n",
    "Examples: Clustering-based methods, statistical approaches.\n",
    "Supervised anomaly detection relies on labeled datasets where instances of normal and anomalous data are provided. It trains a model to distinguish between normal and anomalous patterns.\n",
    "\n",
    "Examples: Classification algorithms like SVM, decision trees.\n",
    "'''"
   ]
  },
  {
   "cell_type": "code",
   "execution_count": null,
   "id": "17f66b32-5bc6-4a06-beb7-8875491700f0",
   "metadata": {},
   "outputs": [],
   "source": [
    "'''\n",
    "Q4. What are the main categories of anomaly detection algorithms?\n",
    "The main categories of anomaly detection algorithms include:\n",
    "\n",
    "Statistical Methods:\n",
    "\n",
    "Assume a statistical model for the data and identify deviations from this model as anomalies.\n",
    "Examples: Gaussian Mixture Models, z-score.\n",
    "Distance-Based Methods:\n",
    "\n",
    "Identify anomalies based on their distance from other points in the dataset.\n",
    "Examples: k-Nearest Neighbors (k-NN), Local Outlier Factor (LOF).\n",
    "Clustering-Based Methods:\n",
    "\n",
    "Anomalies are detected as data points that do not belong to any cluster or belong to small/sparse clusters.\n",
    "Examples: DBSCAN, k-means-based methods.\n",
    "Machine Learning-Based Methods:\n",
    "\n",
    "Use supervised or unsupervised learning models to detect anomalies.\n",
    "Examples: Isolation Forest, Autoencoders.\n",
    "Density-Based Methods:\n",
    "\n",
    "Anomalies are identified based on the density of data points in the feature space, with low-density regions indicating anomalies.\n",
    "Examples: LOF, DBSCAN.\n",
    "'''"
   ]
  },
  {
   "cell_type": "code",
   "execution_count": null,
   "id": "85aa324d-5e59-4732-aa46-ab923be8da5b",
   "metadata": {},
   "outputs": [],
   "source": [
    "'''\n",
    "Q5. What are the main assumptions made by distance-based anomaly detection methods?\n",
    "Distance-based anomaly detection methods generally assume that:\n",
    "\n",
    "Normal data points are close to each other in the feature space, forming dense regions.\n",
    "Anomalies are far from other points, residing in sparse regions of the feature space.\n",
    "Homogeneity: The data should not have highly varying densities, as this can affect the definition of what constitutes an anomaly.\n",
    "'''"
   ]
  },
  {
   "cell_type": "code",
   "execution_count": null,
   "id": "c85f23bd-2eab-4c6b-b633-1a692e83262d",
   "metadata": {},
   "outputs": [],
   "source": [
    "'''\n",
    "Q6. How does the LOF algorithm compute anomaly scores?\n",
    "The Local Outlier Factor (LOF) algorithm computes an anomaly score by comparing the local density of a data point to the local densities of its neighbors:\n",
    "\n",
    "Local Reachability Density (LRD): For each point, LOF calculates its LRD based on the average distance to its neighbors.\n",
    "LOF Score: The LOF score is the ratio of the LRD of a point to the LRDs of its neighbors.\n",
    "LOF > 1: The point is considered an anomaly (lower density compared to neighbors).\n",
    "LOF ≈ 1: The point is similar to its neighbors.\n",
    "LOF < 1: The point is in a denser region than its neighbors.\n",
    "'''"
   ]
  },
  {
   "cell_type": "code",
   "execution_count": null,
   "id": "e64a3a5f-4ca8-4be6-877c-54196d19eb47",
   "metadata": {},
   "outputs": [],
   "source": [
    "'''\n",
    "Q7. What are the key parameters of the Isolation Forest algorithm?\n",
    "Key parameters of the Isolation Forest algorithm include:\n",
    "\n",
    "Number of Trees (n_estimators): The number of trees in the forest. More trees increase accuracy but also computational cost.\n",
    "Subsample Size (max_samples): The number of samples to draw from the data to build each tree. A smaller sample size allows for quicker isolation but may reduce accuracy.\n",
    "Contamination (contamination): The proportion of anomalies in the dataset, used to set the decision threshold for determining which points are considered anomalies.\n",
    "'''"
   ]
  },
  {
   "cell_type": "code",
   "execution_count": null,
   "id": "a08a54ec-ec57-4682-8f0d-35ec125f5455",
   "metadata": {},
   "outputs": [],
   "source": [
    "'''\n",
    "Q8. If a data point has only 2 neighbors of the same class within a radius of 0.5, what is its anomaly score using KNN with K=10?\n",
    "In k-NN anomaly detection with K=10, if a data point has only 2 neighbors of the same class within a radius of 0.5, the anomaly score can be interpreted as:\n",
    "\n",
    "High Anomaly Score: Since only 2 out of 10 nearest neighbors are of the same class, the point is likely an anomaly. The specific anomaly score will depend on the exact implementation (e.g., distance-based, density-based).\n",
    "Relative Anomaly: The data point's anomaly score will be higher compared to points with more neighbors of the same class within the given radius.\n",
    "'''"
   ]
  },
  {
   "cell_type": "code",
   "execution_count": null,
   "id": "f6fa9d40-f09a-4100-a5ef-c62c320374a8",
   "metadata": {},
   "outputs": [],
   "source": [
    "'''\n",
    "Q9. Using the Isolation Forest algorithm with 100 trees and a dataset of 3000 data points, what is the anomaly score for a data point that has an average path length of 5.0 compared to the average path length of the trees?\n",
    "In the Isolation Forest algorithm, the anomaly score is computed based on the path length of a data point in the trees:\n",
    "\n",
    "Path Length: The shorter the average path length for a point, the more isolated (anomalous) it is.\n",
    "Average Path Length for Random Points: The average path length for a point in a dataset of size 3000 is typically higher than 5.0.\n",
    "Anomaly Score Calculation:\n",
    "A point with an average path length of 5.0, which is shorter than expected, will have a high anomaly score, indicating it is likely an anomaly.\n",
    "'''"
   ]
  }
 ],
 "metadata": {
  "kernelspec": {
   "display_name": "Python 3 (ipykernel)",
   "language": "python",
   "name": "python3"
  },
  "language_info": {
   "codemirror_mode": {
    "name": "ipython",
    "version": 3
   },
   "file_extension": ".py",
   "mimetype": "text/x-python",
   "name": "python",
   "nbconvert_exporter": "python",
   "pygments_lexer": "ipython3",
   "version": "3.10.8"
  }
 },
 "nbformat": 4,
 "nbformat_minor": 5
}
