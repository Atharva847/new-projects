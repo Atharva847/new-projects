{
 "cells": [
  {
   "cell_type": "code",
   "execution_count": null,
   "id": "083714db-4c68-452b-b13c-7b29b4512912",
   "metadata": {},
   "outputs": [],
   "source": [
    "'''\n",
    "Q1. What is a projection and how is it used in PCA?\n",
    "A projection in PCA refers to the transformation of data points from a higher-dimensional space to a lower-dimensional space.\n",
    "This is done by projecting the original data onto a new set of axes, which are the principal components. These components are \n",
    "the directions in which the data varies the most. By projecting the data onto these axes, PCA reduces dimensionality while \n",
    "retaining as much variance (information) as possible.\n",
    "'''"
   ]
  },
  {
   "cell_type": "code",
   "execution_count": null,
   "id": "1ced7c68-65a5-4a5b-b4b2-1b7d8d47633f",
   "metadata": {},
   "outputs": [],
   "source": []
  }
 ],
 "metadata": {
  "kernelspec": {
   "display_name": "Python 3 (ipykernel)",
   "language": "python",
   "name": "python3"
  },
  "language_info": {
   "codemirror_mode": {
    "name": "ipython",
    "version": 3
   },
   "file_extension": ".py",
   "mimetype": "text/x-python",
   "name": "python",
   "nbconvert_exporter": "python",
   "pygments_lexer": "ipython3",
   "version": "3.10.8"
  }
 },
 "nbformat": 4,
 "nbformat_minor": 5
}
